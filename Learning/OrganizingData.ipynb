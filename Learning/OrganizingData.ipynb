{
 "cells": [
  {
   "cell_type": "code",
   "execution_count": 31,
   "metadata": {},
   "outputs": [
    {
     "name": "stdout",
     "output_type": "stream",
     "text": [
      "60\n"
     ]
    }
   ],
   "source": [
    "import os\n",
    "import swimclub\n",
    "import webbrowser\n",
    "swim_files = os.listdir(swimclub.FOLDER)\n",
    "swim_files.remove('.DS_Store')\n",
    "print(len(swim_files))"
   ]
  },
  {
   "cell_type": "code",
   "execution_count": 32,
   "metadata": {},
   "outputs": [],
   "source": [
    "swimmers = []\n",
    "for file in swim_files:\n",
    "    swimmers.append((swimclub.read_swim_data(file)[0], file))"
   ]
  },
  {
   "cell_type": "code",
   "execution_count": 33,
   "metadata": {},
   "outputs": [],
   "source": [
    "swimmers = list(set(swimmers))"
   ]
  },
  {
   "cell_type": "code",
   "execution_count": 34,
   "metadata": {},
   "outputs": [
    {
     "data": {
      "text/plain": [
       "[('Mike', 'Mike-15-100m-Fly.txt'),\n",
       " ('Bill', 'Bill-18-200m-Back.txt'),\n",
       " ('Dave', 'Dave-17-100m-Free.txt'),\n",
       " ('Abi', 'Abi-10-50m-Free.txt'),\n",
       " ('Abi', 'Abi-10-100m-Breast.txt')]"
      ]
     },
     "execution_count": 34,
     "metadata": {},
     "output_type": "execute_result"
    }
   ],
   "source": [
    "swimmers[:5]"
   ]
  },
  {
   "cell_type": "code",
   "execution_count": 35,
   "metadata": {},
   "outputs": [
    {
     "name": "stdout",
     "output_type": "stream",
     "text": [
      "['Abi', 'Ali', 'Alison', 'Aurora', 'Bill', 'Blake', 'Calvin', 'Carl', 'Chris', 'Darius', 'Dave', 'Elba', 'Emma', 'Erika', 'Hannah', 'Katie', 'Lizzie', 'Maria', 'Mike', 'Owen', 'Ruth', 'Tasmin']\n"
     ]
    }
   ],
   "source": [
    "names = []\n",
    "for row in swimmers:\n",
    "    if row[0] not in names:\n",
    "        names.append(row[0])\n",
    "print(sorted(names))"
   ]
  },
  {
   "cell_type": "code",
   "execution_count": 36,
   "metadata": {},
   "outputs": [
    {
     "name": "stdout",
     "output_type": "stream",
     "text": [
      "25 ('Dave', 'Dave-17-100m-Free.txt')\n",
      "26 ('Dave', 'Dave-17-200m-Back.txt')\n"
     ]
    }
   ],
   "source": [
    "for n, event in enumerate(sorted(swimmers)):\n",
    "    if event[0] == \"Dave\":\n",
    "        print(n, event)"
   ]
  },
  {
   "cell_type": "code",
   "execution_count": 37,
   "metadata": {},
   "outputs": [],
   "source": [
    "person = {\n",
    "    \"first\": \"Tim\",\n",
    "    \"last\": \"O'Reilly\"\n",
    "}"
   ]
  },
  {
   "cell_type": "code",
   "execution_count": 38,
   "metadata": {},
   "outputs": [
    {
     "data": {
      "text/plain": [
       "'Tim'"
      ]
     },
     "execution_count": 38,
     "metadata": {},
     "output_type": "execute_result"
    }
   ],
   "source": [
    "person[\"first\"]"
   ]
  },
  {
   "cell_type": "code",
   "execution_count": 39,
   "metadata": {},
   "outputs": [],
   "source": [
    "swimmers = {}\n",
    "for file in swim_files:\n",
    "    name, *_ = swimclub.read_swim_data(file)\n",
    "    if name not in swimmers:\n",
    "        swimmers[name] = []\n",
    "    swimmers[name].append(file)"
   ]
  },
  {
   "cell_type": "code",
   "execution_count": 40,
   "metadata": {},
   "outputs": [
    {
     "data": {
      "text/plain": [
       "['Dave-17-100m-Free.txt', 'Dave-17-200m-Back.txt']"
      ]
     },
     "execution_count": 40,
     "metadata": {},
     "output_type": "execute_result"
    }
   ],
   "source": [
    "swimmers[\"Dave\"]"
   ]
  },
  {
   "cell_type": "code",
   "execution_count": 41,
   "metadata": {},
   "outputs": [
    {
     "data": {
      "text/plain": [
       "['Darius-13-100m-Back.txt',\n",
       " 'Darius-13-100m-Breast.txt',\n",
       " 'Darius-13-100m-Fly.txt',\n",
       " 'Darius-13-200m-IM.txt']"
      ]
     },
     "execution_count": 41,
     "metadata": {},
     "output_type": "execute_result"
    }
   ],
   "source": [
    "swimmers[\"Darius\"]"
   ]
  },
  {
   "cell_type": "code",
   "execution_count": 42,
   "metadata": {},
   "outputs": [
    {
     "data": {
      "text/plain": [
       "22"
      ]
     },
     "execution_count": 42,
     "metadata": {},
     "output_type": "execute_result"
    }
   ],
   "source": [
    "len(swimmers)"
   ]
  },
  {
   "cell_type": "code",
   "execution_count": 43,
   "metadata": {},
   "outputs": [
    {
     "name": "stdout",
     "output_type": "stream",
     "text": [
      "['Abi', 'Ali', 'Alison', 'Aurora', 'Bill', 'Blake', 'Calvin', 'Carl', 'Chris', 'Darius', 'Dave', 'Elba', 'Emma', 'Erika', 'Hannah', 'Katie', 'Lizzie', 'Maria', 'Mike', 'Owen', 'Ruth', 'Tasmin']\n"
     ]
    }
   ],
   "source": [
    "# using sorted returns all the keys as a list\n",
    "print(sorted(swimmers))"
   ]
  },
  {
   "cell_type": "code",
   "execution_count": 44,
   "metadata": {},
   "outputs": [
    {
     "data": {
      "text/plain": [
       "{'Abi': ['Abi-10-100m-Back.txt',\n",
       "  'Abi-10-100m-Breast.txt',\n",
       "  'Abi-10-50m-Back.txt',\n",
       "  'Abi-10-50m-Breast.txt',\n",
       "  'Abi-10-50m-Free.txt'],\n",
       " 'Ali': ['Ali-12-100m-Back.txt', 'Ali-12-100m-Free.txt'],\n",
       " 'Alison': ['Alison-14-100m-Breast.txt', 'Alison-14-100m-Free.txt'],\n",
       " 'Aurora': ['Aurora-13-50m-Free.txt'],\n",
       " 'Bill': ['Bill-18-100m-Back.txt', 'Bill-18-200m-Back.txt'],\n",
       " 'Blake': ['Blake-15-100m-Back.txt',\n",
       "  'Blake-15-100m-Fly.txt',\n",
       "  'Blake-15-100m-Free.txt'],\n",
       " 'Calvin': ['Calvin-9-50m-Back.txt',\n",
       "  'Calvin-9-50m-Fly.txt',\n",
       "  'Calvin-9-50m-Free.txt'],\n",
       " 'Carl': ['Carl-15-100m-Back.txt'],\n",
       " 'Chris': ['Chris-17-100m-Back.txt', 'Chris-17-100m-Breast.txt'],\n",
       " 'Darius': ['Darius-13-100m-Back.txt',\n",
       "  'Darius-13-100m-Breast.txt',\n",
       "  'Darius-13-100m-Fly.txt',\n",
       "  'Darius-13-200m-IM.txt'],\n",
       " 'Dave': ['Dave-17-100m-Free.txt', 'Dave-17-200m-Back.txt'],\n",
       " 'Elba': ['Elba-14-100m-Free.txt'],\n",
       " 'Emma': ['Emma-13-100m-Breast.txt', 'Emma-13-100m-Free.txt'],\n",
       " 'Erika': ['Erika-15-100m-Breast.txt',\n",
       "  'Erika-15-100m-Free.txt',\n",
       "  'Erika-15-200m-Breast.txt'],\n",
       " 'Hannah': ['Hannah-13-100m-Back.txt', 'Hannah-13-100m-Free.txt'],\n",
       " 'Katie': ['Katie-9-100m-Back.txt',\n",
       "  'Katie-9-100m-Breast.txt',\n",
       "  'Katie-9-100m-Free.txt',\n",
       "  'Katie-9-50m-Back.txt',\n",
       "  'Katie-9-50m-Breast.txt',\n",
       "  'Katie-9-50m-Fly.txt',\n",
       "  'Katie-9-50m-Free.txt'],\n",
       " 'Lizzie': ['Lizzie-14-100m-Back.txt', 'Lizzie-14-100m-Free.txt'],\n",
       " 'Maria': ['Maria-9-50m-Free.txt'],\n",
       " 'Mike': ['Mike-15-100m-Back.txt',\n",
       "  'Mike-15-100m-Fly.txt',\n",
       "  'Mike-15-100m-Free.txt',\n",
       "  'Mike-15-200m-Free.txt',\n",
       "  'Mike-15-200m-IM.txt'],\n",
       " 'Owen': ['Owen-15-100m-Free.txt'],\n",
       " 'Ruth': ['Ruth-13-100m-Back.txt',\n",
       "  'Ruth-13-100m-Free.txt',\n",
       "  'Ruth-13-200m-Back.txt',\n",
       "  'Ruth-13-200m-Free.txt',\n",
       "  'Ruth-13-400m-Free.txt'],\n",
       " 'Tasmin': ['Tasmin-15-100m-Back.txt',\n",
       "  'Tasmin-15-100m-Breast.txt',\n",
       "  'Tasmin-15-100m-Free.txt',\n",
       "  'Tasmin-15-200m-Breast.txt']}"
      ]
     },
     "execution_count": 44,
     "metadata": {},
     "output_type": "execute_result"
    }
   ],
   "source": [
    "swimmers"
   ]
  },
  {
   "cell_type": "code",
   "execution_count": 45,
   "metadata": {},
   "outputs": [
    {
     "name": "stdout",
     "output_type": "stream",
     "text": [
      "{'Abi': ['Abi-10-100m-Back.txt',\n",
      "         'Abi-10-100m-Breast.txt',\n",
      "         'Abi-10-50m-Back.txt',\n",
      "         'Abi-10-50m-Breast.txt',\n",
      "         'Abi-10-50m-Free.txt'],\n",
      " 'Ali': ['Ali-12-100m-Back.txt', 'Ali-12-100m-Free.txt'],\n",
      " 'Alison': ['Alison-14-100m-Breast.txt', 'Alison-14-100m-Free.txt'],\n",
      " 'Aurora': ['Aurora-13-50m-Free.txt'],\n",
      " 'Bill': ['Bill-18-100m-Back.txt', 'Bill-18-200m-Back.txt'],\n",
      " 'Blake': ['Blake-15-100m-Back.txt',\n",
      "           'Blake-15-100m-Fly.txt',\n",
      "           'Blake-15-100m-Free.txt'],\n",
      " 'Calvin': ['Calvin-9-50m-Back.txt',\n",
      "            'Calvin-9-50m-Fly.txt',\n",
      "            'Calvin-9-50m-Free.txt'],\n",
      " 'Carl': ['Carl-15-100m-Back.txt'],\n",
      " 'Chris': ['Chris-17-100m-Back.txt', 'Chris-17-100m-Breast.txt'],\n",
      " 'Darius': ['Darius-13-100m-Back.txt',\n",
      "            'Darius-13-100m-Breast.txt',\n",
      "            'Darius-13-100m-Fly.txt',\n",
      "            'Darius-13-200m-IM.txt'],\n",
      " 'Dave': ['Dave-17-100m-Free.txt', 'Dave-17-200m-Back.txt'],\n",
      " 'Elba': ['Elba-14-100m-Free.txt'],\n",
      " 'Emma': ['Emma-13-100m-Breast.txt', 'Emma-13-100m-Free.txt'],\n",
      " 'Erika': ['Erika-15-100m-Breast.txt',\n",
      "           'Erika-15-100m-Free.txt',\n",
      "           'Erika-15-200m-Breast.txt'],\n",
      " 'Hannah': ['Hannah-13-100m-Back.txt', 'Hannah-13-100m-Free.txt'],\n",
      " 'Katie': ['Katie-9-100m-Back.txt',\n",
      "           'Katie-9-100m-Breast.txt',\n",
      "           'Katie-9-100m-Free.txt',\n",
      "           'Katie-9-50m-Back.txt',\n",
      "           'Katie-9-50m-Breast.txt',\n",
      "           'Katie-9-50m-Fly.txt',\n",
      "           'Katie-9-50m-Free.txt'],\n",
      " 'Lizzie': ['Lizzie-14-100m-Back.txt', 'Lizzie-14-100m-Free.txt'],\n",
      " 'Maria': ['Maria-9-50m-Free.txt'],\n",
      " 'Mike': ['Mike-15-100m-Back.txt',\n",
      "          'Mike-15-100m-Fly.txt',\n",
      "          'Mike-15-100m-Free.txt',\n",
      "          'Mike-15-200m-Free.txt',\n",
      "          'Mike-15-200m-IM.txt'],\n",
      " 'Owen': ['Owen-15-100m-Free.txt'],\n",
      " 'Ruth': ['Ruth-13-100m-Back.txt',\n",
      "          'Ruth-13-100m-Free.txt',\n",
      "          'Ruth-13-200m-Back.txt',\n",
      "          'Ruth-13-200m-Free.txt',\n",
      "          'Ruth-13-400m-Free.txt'],\n",
      " 'Tasmin': ['Tasmin-15-100m-Back.txt',\n",
      "            'Tasmin-15-100m-Breast.txt',\n",
      "            'Tasmin-15-100m-Free.txt',\n",
      "            'Tasmin-15-200m-Breast.txt']}\n"
     ]
    }
   ],
   "source": [
    "import pprint\n",
    "pprint.pprint(swimmers)"
   ]
  },
  {
   "cell_type": "code",
   "execution_count": 46,
   "metadata": {},
   "outputs": [
    {
     "name": "stdout",
     "output_type": "stream",
     "text": [
      "0 -> 307.72\n",
      "1 -> 307.72\n",
      "2 -> 350.0\n",
      "3 -> 350.0\n",
      "4 -> 328.21\n",
      "5 -> 328.21\n",
      "6 -> 333.82\n",
      "7 -> 333.82\n",
      "8 -> 320.33\n",
      "9 -> 320.33\n",
      "10 -> 313.58\n",
      "0 -> 350.0\n",
      "1 -> 350.0\n",
      "2 -> 298.39\n",
      "3 -> 298.39\n",
      "4 -> 318.46\n",
      "5 -> 318.46\n",
      "6 -> 302.17\n",
      "7 -> 302.17\n",
      "8 -> 311.72\n",
      "9 -> 311.72\n",
      "10 -> 310.27\n",
      "0 -> 340.99\n",
      "1 -> 340.99\n",
      "2 -> 324.29\n",
      "3 -> 324.29\n",
      "4 -> 325.33\n",
      "5 -> 325.33\n"
     ]
    }
   ],
   "source": [
    "for fname in swimmers[\"Calvin\"]:\n",
    "    webbrowser.open(\"file://\" + os.path.realpath(swimclub.produce_bar_chart(fname)))"
   ]
  }
 ],
 "metadata": {
  "kernelspec": {
   "display_name": "Python 3",
   "language": "python",
   "name": "python3"
  },
  "language_info": {
   "codemirror_mode": {
    "name": "ipython",
    "version": 3
   },
   "file_extension": ".py",
   "mimetype": "text/x-python",
   "name": "python",
   "nbconvert_exporter": "python",
   "pygments_lexer": "ipython3",
   "version": "3.10.6"
  },
  "orig_nbformat": 4
 },
 "nbformat": 4,
 "nbformat_minor": 2
}
