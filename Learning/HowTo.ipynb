{
 "cells": [
  {
   "cell_type": "code",
   "execution_count": 5,
   "metadata": {},
   "outputs": [],
   "source": [
    "import swimclub\n",
    "\n",
    "fn = \"Darius-13-100m-Fly.txt\"\n",
    "\n",
    "*_, times, average, converts = swimclub.read_swim_data(fn)"
   ]
  },
  {
   "cell_type": "code",
   "execution_count": 9,
   "metadata": {},
   "outputs": [
    {
     "data": {
      "text/plain": [
       "['1:27.95', '1:21.07', '1:30.96', '1:23.22', '1:27.95', '1:28.30']"
      ]
     },
     "execution_count": 9,
     "metadata": {},
     "output_type": "execute_result"
    }
   ],
   "source": [
    "times"
   ]
  },
  {
   "cell_type": "code",
   "execution_count": 10,
   "metadata": {},
   "outputs": [],
   "source": [
    "from_max = max(converts)"
   ]
  },
  {
   "cell_type": "code",
   "execution_count": 11,
   "metadata": {},
   "outputs": [
    {
     "data": {
      "text/plain": [
       "9096"
      ]
     },
     "execution_count": 11,
     "metadata": {},
     "output_type": "execute_result"
    }
   ],
   "source": [
    "from_max"
   ]
  },
  {
   "cell_type": "code",
   "execution_count": 31,
   "metadata": {},
   "outputs": [
    {
     "name": "stdout",
     "output_type": "stream",
     "text": [
      "1 -> 0.04\n",
      "2 -> 0.09\n",
      "3 -> 0.13\n",
      "4 -> 0.18\n",
      "5 -> 0.22\n",
      "6 -> 0.26\n"
     ]
    }
   ],
   "source": [
    "import hfpy_utils\n",
    "\n",
    "svgs = \"\"\n",
    "\n",
    "\n",
    "for n, t in enumerate(converts, 1):\n",
    "    bar_width = hfpy_utils.convert2range(n, 0, from_max, 0, 400)\n",
    "    print(n, \"->\", bar_width)\n",
    "    svgs = svgs + f\"\"\"\n",
    "                        <svg height=\"30\" width=\"400\">\n",
    "                            <rect height=\"30\" width={bar_width} style=\"fill:rgb(0,0,255);\" />\n",
    "                        </svg>{t}<br />\n",
    "        \"\"\""
   ]
  },
  {
   "cell_type": "code",
   "execution_count": 32,
   "metadata": {},
   "outputs": [
    {
     "name": "stdout",
     "output_type": "stream",
     "text": [
      "\n",
      "                        <svg height=\"30\" width=\"400\">\n",
      "                            <rect height=\"30\" width=0.04 style=\"fill:rgb(0,0,255);\" />\n",
      "                        </svg>8795<br />\n",
      "        \n",
      "                        <svg height=\"30\" width=\"400\">\n",
      "                            <rect height=\"30\" width=0.09 style=\"fill:rgb(0,0,255);\" />\n",
      "                        </svg>8107<br />\n",
      "        \n",
      "                        <svg height=\"30\" width=\"400\">\n",
      "                            <rect height=\"30\" width=0.13 style=\"fill:rgb(0,0,255);\" />\n",
      "                        </svg>9096<br />\n",
      "        \n",
      "                        <svg height=\"30\" width=\"400\">\n",
      "                            <rect height=\"30\" width=0.18 style=\"fill:rgb(0,0,255);\" />\n",
      "                        </svg>8322<br />\n",
      "        \n",
      "                        <svg height=\"30\" width=\"400\">\n",
      "                            <rect height=\"30\" width=0.22 style=\"fill:rgb(0,0,255);\" />\n",
      "                        </svg>8795<br />\n",
      "        \n",
      "                        <svg height=\"30\" width=\"400\">\n",
      "                            <rect height=\"30\" width=0.26 style=\"fill:rgb(0,0,255);\" />\n",
      "                        </svg>8830<br />\n",
      "        \n"
     ]
    }
   ],
   "source": [
    "print(svgs)"
   ]
  },
  {
   "cell_type": "code",
   "execution_count": null,
   "metadata": {},
   "outputs": [],
   "source": [
    "footer = f\"\"\"\"\n",
    "            <p>Average time: {average}</p>\n",
    "        </body>\n",
    "    </html>\n",
    "\"\"\""
   ]
  }
 ],
 "metadata": {
  "kernelspec": {
   "display_name": "Python 3.10.6 64-bit",
   "language": "python",
   "name": "python3"
  },
  "language_info": {
   "codemirror_mode": {
    "name": "ipython",
    "version": 3
   },
   "file_extension": ".py",
   "mimetype": "text/x-python",
   "name": "python",
   "nbconvert_exporter": "python",
   "pygments_lexer": "ipython3",
   "version": "3.10.6"
  },
  "orig_nbformat": 4,
  "vscode": {
   "interpreter": {
    "hash": "aee8b7b246df8f9039afb4144a1f6fd8d2ca17a180786b69acc140d282b71a49"
   }
  }
 },
 "nbformat": 4,
 "nbformat_minor": 2
}
