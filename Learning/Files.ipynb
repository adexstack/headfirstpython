{
 "cells": [
  {
   "cell_type": "code",
   "execution_count": 1,
   "metadata": {},
   "outputs": [],
   "source": [
    "import swimclub"
   ]
  },
  {
   "cell_type": "code",
   "execution_count": 2,
   "metadata": {},
   "outputs": [],
   "source": [
    "data = swimclub.read_swim_data(\"Darius-13-100m-Fly.txt\")"
   ]
  },
  {
   "cell_type": "code",
   "execution_count": 3,
   "metadata": {},
   "outputs": [],
   "source": [
    "times = data[4]"
   ]
  },
  {
   "cell_type": "code",
   "execution_count": 4,
   "metadata": {},
   "outputs": [
    {
     "data": {
      "text/plain": [
       "['1:27.95', '1:21.07', '1:30.96', '1:23.22', '1:27.95', '1:28.30']"
      ]
     },
     "execution_count": 4,
     "metadata": {},
     "output_type": "execute_result"
    }
   ],
   "source": [
    "times"
   ]
  },
  {
   "cell_type": "code",
   "execution_count": 5,
   "metadata": {},
   "outputs": [
    {
     "name": "stdout",
     "output_type": "stream",
     "text": [
      "['__add__', '__class__', '__class_getitem__', '__contains__', '__delattr__', '__dir__', '__doc__', '__eq__', '__format__', '__ge__', '__getattribute__', '__getitem__', '__getnewargs__', '__gt__', '__hash__', '__init__', '__init_subclass__', '__iter__', '__le__', '__len__', '__lt__', '__mul__', '__ne__', '__new__', '__reduce__', '__reduce_ex__', '__repr__', '__rmul__', '__setattr__', '__sizeof__', '__str__', '__subclasshook__', 'count', 'index']\n"
     ]
    }
   ],
   "source": [
    "print(dir(data))"
   ]
  },
  {
   "cell_type": "code",
   "execution_count": 6,
   "metadata": {},
   "outputs": [],
   "source": [
    "import os"
   ]
  },
  {
   "cell_type": "code",
   "execution_count": 7,
   "metadata": {},
   "outputs": [],
   "source": [
    "swim_files = os.listdir(swimclub.FOLDER)"
   ]
  },
  {
   "cell_type": "code",
   "execution_count": 8,
   "metadata": {},
   "outputs": [
    {
     "data": {
      "text/plain": [
       "61"
      ]
     },
     "execution_count": 8,
     "metadata": {},
     "output_type": "execute_result"
    }
   ],
   "source": [
    "len(swim_files)"
   ]
  },
  {
   "cell_type": "code",
   "execution_count": 9,
   "metadata": {},
   "outputs": [],
   "source": [
    "swim_files.remove(\".DS_Store\")"
   ]
  },
  {
   "cell_type": "code",
   "execution_count": 10,
   "metadata": {},
   "outputs": [
    {
     "name": "stdout",
     "output_type": "stream",
     "text": [
      "1 Processing: Abi-10-100m-Back.txt\n",
      "1:31.81\n",
      "2 Processing: Abi-10-100m-Breast.txt\n",
      "1:42.53\n",
      "3 Processing: Abi-10-50m-Back.txt\n",
      "0:41.43\n",
      "4 Processing: Abi-10-50m-Breast.txt\n",
      "0:48.54\n",
      "5 Processing: Abi-10-50m-Free.txt\n",
      "0:38.07\n",
      "6 Processing: Ali-12-100m-Back.txt\n",
      "1:39.49\n",
      "7 Processing: Ali-12-100m-Free.txt\n",
      "1:24.42\n",
      "8 Processing: Alison-14-100m-Breast.txt\n",
      "1:36.7\n",
      "9 Processing: Alison-14-100m-Free.txt\n",
      "1:12.88\n",
      "10 Processing: Aurora-13-50m-Free.txt\n",
      "0:29.89\n",
      "11 Processing: Bill-18-100m-Back.txt\n",
      "1:7.18\n",
      "12 Processing: Bill-18-200m-Back.txt\n",
      "2:26.02\n",
      "13 Processing: Blake-15-100m-Back.txt\n",
      "1:14.8\n",
      "14 Processing: Blake-15-100m-Fly.txt\n",
      "1:11.06\n",
      "15 Processing: Blake-15-100m-Free.txt\n",
      "1:3.76\n",
      "16 Processing: Calvin-9-50m-Back.txt\n",
      "0:40.02\n",
      "17 Processing: Calvin-9-50m-Fly.txt\n",
      "0:39.73\n",
      "18 Processing: Calvin-9-50m-Free.txt\n",
      "0:35.55\n",
      "19 Processing: Carl-15-100m-Back.txt\n",
      "1:27.21\n",
      "20 Processing: Chris-17-100m-Back.txt\n",
      "1:22.67\n",
      "21 Processing: Chris-17-100m-Breast.txt\n",
      "1:28.89\n",
      "22 Processing: Darius-13-100m-Back.txt\n",
      "1:24.11\n",
      "23 Processing: Darius-13-100m-Breast.txt\n",
      "1:32.04\n",
      "24 Processing: Darius-13-100m-Fly.txt\n",
      "1:26.58\n",
      "25 Processing: Darius-13-200m-IM.txt\n",
      "3:1.26\n",
      "26 Processing: Dave-17-100m-Free.txt\n",
      "0:59.21\n",
      "27 Processing: Dave-17-200m-Back.txt\n",
      "2:31.99\n",
      "28 Processing: Elba-14-100m-Free.txt\n",
      "1:6.09\n",
      "29 Processing: Emma-13-100m-Breast.txt\n",
      "1:58.66\n",
      "30 Processing: Emma-13-100m-Free.txt\n",
      "1:32.14\n",
      "31 Processing: Erika-15-100m-Breast.txt\n",
      "1:34.18\n",
      "32 Processing: Erika-15-100m-Free.txt\n",
      "1:18.82\n",
      "33 Processing: Erika-15-200m-Breast.txt\n",
      "3:30.94\n",
      "34 Processing: Hannah-13-100m-Back.txt\n",
      "1:33.78\n",
      "35 Processing: Hannah-13-100m-Free.txt\n",
      "1:22.46\n",
      "36 Processing: Katie-9-100m-Back.txt\n",
      "1:32.17\n",
      "37 Processing: Katie-9-100m-Breast.txt\n",
      "1:50.72\n",
      "38 Processing: Katie-9-100m-Free.txt\n",
      "1:22.97\n",
      "39 Processing: Katie-9-50m-Back.txt\n",
      "0:45.6\n",
      "40 Processing: Katie-9-50m-Breast.txt\n",
      "0:53.42\n",
      "41 Processing: Katie-9-50m-Fly.txt\n",
      "0:46.38\n",
      "42 Processing: Katie-9-50m-Free.txt\n",
      "0:40.34\n",
      "43 Processing: Lizzie-14-100m-Back.txt\n",
      "1:29.2\n",
      "44 Processing: Lizzie-14-100m-Free.txt\n",
      "1:15.38\n",
      "45 Processing: Maria-9-50m-Free.txt\n",
      "0:42.22\n",
      "46 Processing: Mike-15-100m-Back.txt\n",
      "1:15.71\n",
      "47 Processing: Mike-15-100m-Fly.txt\n",
      "1:10.6\n",
      "48 Processing: Mike-15-100m-Free.txt\n",
      "1:4.13\n",
      "49 Processing: Mike-15-200m-Free.txt\n",
      "2:31.62\n",
      "50 Processing: Mike-15-200m-IM.txt\n",
      "2:46.47\n",
      "51 Processing: Owen-15-100m-Free.txt\n",
      "1:15.67\n",
      "52 Processing: Ruth-13-100m-Back.txt\n",
      "1:18.05\n",
      "53 Processing: Ruth-13-100m-Free.txt\n",
      "1:10.17\n",
      "54 Processing: Ruth-13-200m-Back.txt\n",
      "2:45.84\n",
      "55 Processing: Ruth-13-200m-Free.txt\n",
      "2:27.25\n",
      "56 Processing: Ruth-13-400m-Free.txt\n",
      "5:9.79\n",
      "57 Processing: Tasmin-15-100m-Back.txt\n",
      "1:18.14\n",
      "58 Processing: Tasmin-15-100m-Breast.txt\n",
      "1:23.3\n",
      "59 Processing: Tasmin-15-100m-Free.txt\n",
      "1:9.91\n",
      "60 Processing: Tasmin-15-200m-Breast.txt\n",
      "2:59.53\n"
     ]
    }
   ],
   "source": [
    "for n, s in enumerate(swim_files, 1):\n",
    "    print(n, \"Processing:\", s)\n",
    "    print(swimclub.read_swim_data(s)[5])"
   ]
  },
  {
   "cell_type": "code",
   "execution_count": null,
   "metadata": {},
   "outputs": [],
   "source": []
  }
 ],
 "metadata": {
  "kernelspec": {
   "display_name": "Python 3",
   "language": "python",
   "name": "python3"
  },
  "language_info": {
   "codemirror_mode": {
    "name": "ipython",
    "version": 3
   },
   "file_extension": ".py",
   "mimetype": "text/x-python",
   "name": "python",
   "nbconvert_exporter": "python",
   "pygments_lexer": "ipython3",
   "version": "3.10.6"
  },
  "orig_nbformat": 4
 },
 "nbformat": 4,
 "nbformat_minor": 2
}
